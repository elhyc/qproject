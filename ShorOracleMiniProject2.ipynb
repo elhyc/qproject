{
 "cells": [
  {
   "cell_type": "code",
   "execution_count": 112,
   "id": "9f3cc102",
   "metadata": {},
   "outputs": [],
   "source": [
    "from qiskit.circuit import QuantumCircuit, QuantumRegister\n",
    "from qiskit.quantum_info import Statevector\n",
    "\n",
    "import numpy as np\n",
    "\n",
    "def quantum_fourier_transform(n):\n",
    "    input_register = QuantumRegister(size=n, name=\"x\")\n",
    "    QFT_circuit = QuantumCircuit(input_register, name=f\"QFT\")\n",
    "\n",
    "    for q, p in zip(input_register[:n >> 1], reversed(input_register[n >> 1:])):\n",
    "        QFT_circuit.swap(q, p)\n",
    "\n",
    "    for i, q in enumerate(input_register, start=1):\n",
    "        QFT_circuit.h(q)\n",
    "        for j, p in enumerate(input_register[i:], start=1):\n",
    "            QFT_circuit.cp(np.pi / (1 << j), q, p)\n",
    "\n",
    "    return QFT_circuit\n",
    "\n",
    "def inverse_quantum_fourier_transform(n):\n",
    "    input_register = QuantumRegister(size=n, name=\"x\")\n",
    "    inverse_QFT_circuit = QuantumCircuit(input_register, name=f\"IQFT\")\n",
    "\n",
    "    for i, q in enumerate(reversed(input_register), start=1):\n",
    "        for j, p in enumerate(reversed(input_register[n + 1 - i:]), start=1):\n",
    "            inverse_QFT_circuit.cp(- np.pi / (1 << (i - j)), q, p)\n",
    "        inverse_QFT_circuit.h(q)\n",
    "\n",
    "    for q, p in zip(input_register[:n >> 1], reversed(input_register[n >> 1:])):\n",
    "        inverse_QFT_circuit.swap(q, p)\n",
    "\n",
    "    return inverse_QFT_circuit\n",
    "\n"
   ]
  },
  {
   "cell_type": "markdown",
   "id": "5f8bf33f",
   "metadata": {},
   "source": [
    "<u> An implementation of the oracle for Shor's algorithm: </u> (mostly following Beauregard)"
   ]
  },
  {
   "cell_type": "markdown",
   "id": "73505ec1",
   "metadata": {},
   "source": [
    "Task: given two inputs, $a,N \\in \\mathbb{Z}_{+}$, such that $a < N$, we construct a quantum circuit which implements the oracle:\n",
    "\n",
    "$$\n",
    "U | x \\rangle_{1} | y \\rangle_{n}  = \\begin{cases}  | x \\rangle_{1} | (a y) \\text{ mod } N \\rangle_{n} \\text{, if } x = 1 \\text{ and } y < N \\\\ \n",
    "\n",
    "|x \\rangle_{1} |  y \\rangle_{n} \\text{, otherwise }\n",
    "\n",
    "\\end{cases}\n",
    "$$\n",
    "\n",
    "We note that this oracle should not have any effect if $y \\geq  N$. With this extra condition, we will need to use an extra ancilla qubit in our construction to help keep track of the combination of the two conditions $x = 1$ <b> and </b> $ y < N$. That is, if both $x = 1$ and $y < N$ are true, then this extra ancilla will be in the $ | 1 \\rangle$ state. Otherwise, the exta ancilla qubit will remain $| 0 \\rangle$.  \n"
   ]
  },
  {
   "cell_type": "markdown",
   "id": "92e1d644",
   "metadata": {},
   "source": [
    "If we pass in a state $| x \\rangle_{1} | y \\rangle_{n}$, such that $x = 1$ and $y < N$, then the output of our quantum circuit before cleaning ancillas, will be of the following form:\n",
    "\n",
    "$$\n",
    "| x \\rangle_{1} \\otimes | 0 \\rangle_{1}  \\otimes | \\text{ extra ancilla } \\rangle_{1} \\otimes |   (a y) \\text{ mod } N \\rangle_{n} \\otimes | 0 \\rangle_{n}  =  | x \\rangle_{1} \\otimes | 0 \\rangle_{1}  \\otimes | 1 \\rangle_{1} \\otimes |   (a y) \\text{ mod } N \\rangle_{n} \\otimes | 0 \\rangle_{n}\n",
    "$$\n",
    "\n",
    "If either $x \\neq 1$ or $y \\geq  N$, then the output of our quantum circuit will be of the form:\n",
    "\n",
    "$$\n",
    "| x \\rangle_{1} \\otimes | 0 \\rangle_{1}  \\otimes | \\text{ extra ancilla } \\rangle_{1} \\otimes |   y \\rangle_{n} \\otimes | 0 \\rangle_{n}  =  | x \\rangle_{1} \\otimes | 0 \\rangle_{1}  \\otimes | 0 \\rangle_{1} \\otimes |  y \\rangle_{n} \\otimes | 0 \\rangle_{n}\n",
    "$$\n"
   ]
  },
  {
   "cell_type": "markdown",
   "id": "c6e21608",
   "metadata": {},
   "source": [
    "In the end, we will be able to produce a construction with \"clean ancillas\". That is, the final output will be of the form:\n",
    "\n",
    "\n",
    "\n"
   ]
  },
  {
   "cell_type": "markdown",
   "id": "8cddd664",
   "metadata": {},
   "source": [
    "$$ |x \\rangle_{1} | y \\rangle_{n} \\mapsto \n",
    " \\begin{cases}  | x \\rangle_{1}  \\otimes | 0 \\rangle_{1} \\otimes | 0 \\rangle_{1} \\otimes  | (a y) \\text{ mod } N \\rangle_{n} \\otimes | 0 \\rangle_{n} \\text{, if } x = 1 \\text{ and } y < N \\\\ \n",
    "\n",
    "| x \\rangle_{1}  \\otimes | 0 \\rangle_{1} \\otimes | 0 \\rangle_{1} \\otimes  | y \\rangle_{n} \\otimes | 0 \\rangle_{n}  \\text{, otherwise }\n",
    "\\end{cases}\n",
    "$$"
   ]
  },
  {
   "cell_type": "markdown",
   "id": "c8624dc9",
   "metadata": {},
   "source": [
    "The construction presented in this notebook works for arbitrary $N$."
   ]
  },
  {
   "cell_type": "markdown",
   "id": "c81736a6",
   "metadata": {},
   "source": [
    "First, we write a function that outputs an adder circuit with optional multi-controls. It takes in parameters $a \\in \\mathbb{Z}$ and \"num_of_controls\" $\\in \\mathbb{N}$, where num_of_controls denotes the number of controls this adder should have. Then, the circuit performs the following (where $m = $ num_of_controls):\n",
    "\n",
    "$$\n",
    "| c_{1} , \\cdots c_{m} \\rangle_{m} | y \\rangle_{n}  \\mapsto | c_{1} , \\cdots c_{m} \\rangle_{m} | y + a \\rangle_{n} \n",
    "$$"
   ]
  },
  {
   "cell_type": "markdown",
   "id": "b74cf2b5",
   "metadata": {},
   "source": [
    "As usual, this adder is QFT based, and is essentially Draper's circuit with some optional controls."
   ]
  },
  {
   "cell_type": "code",
   "execution_count": 113,
   "id": "0bc465f4",
   "metadata": {},
   "outputs": [],
   "source": [
    "\n",
    "\n",
    "def ControlledAdderCons(a, num_of_controls,n):\n",
    "    input_register = QuantumRegister(n)\n",
    "    \n",
    "    if num_of_controls == 0:        \n",
    "        ControlledAdder = QuantumCircuit(input_register) \n",
    "        ControlledAdder.compose(quantum_fourier_transform(n).to_gate(), inplace= True)    \n",
    "        \n",
    "        for q in enumerate(input_register):\n",
    "            ControlledAdder.p( ( 2*np.pi / 2**n )*(2**q[0])*a, q[1]) \n",
    "            \n",
    "                 \n",
    "    else:\n",
    "        control_register = QuantumRegister(num_of_controls)\n",
    "        ControlledAdder = QuantumCircuit(input_register, control_register) \n",
    "        ControlledAdder.compose(quantum_fourier_transform(n).to_gate(), inplace= True) \n",
    "        for q in enumerate(input_register):\n",
    "            ControlledAdder.mcp( ( 2*np.pi / 2**n )*(2**q[0])*a, control_register[:], q[1])\n",
    "            \n",
    "        \n",
    "    ControlledAdder.compose(inverse_quantum_fourier_transform(n).to_gate(), inplace=True)\n",
    "    return ControlledAdder\n",
    "    \n",
    "    "
   ]
  },
  {
   "cell_type": "markdown",
   "id": "5be1fcf0",
   "metadata": {},
   "source": [
    "Next, we define a function that implements a <em> modular </em> addition circuit. It takes parameters $a, N \\in \\mathbb{Z}_{+}$, with $a < N$ and produces a circuit that acts as\n",
    "\n",
    "\n",
    "$$\n",
    "| y \\rangle_{n} \\mapsto | (y + a) \\text{ mod } N \\rangle_{n}\n",
    "$$\n",
    "\n"
   ]
  },
  {
   "cell_type": "markdown",
   "id": "968c7bb5",
   "metadata": {},
   "source": [
    "\n",
    "We construct this circuit Following Beauregard. It is important here that $a < N$, otherwise the circuit may overflow and not result in the expected output. The circuit is constructed as follows:\n",
    "\n",
    "1. Apply the adder circuit mapping $| y \\rangle_{n} \\mapsto | (y + a) \\text{ mod } N \\rangle_{n}$\n",
    "2. Apply the inverse adder circuit (i.e. the subtractor circuit), which takes acts as $| x  \\rangle_{n} \\mapsto | x - N \\rangle_{n}$. \n",
    "\n",
    " As bitstrings encode integers in \"twos complement\" notation, one can check the state of the significant bit to see if $y + a - N$ is negative or not (i.e. whether or not $ y + a < N$). As both $y$ and $a$ are $< N$, we have two cases: \n",
    "\n",
    "\n",
    "$$\n",
    "(y + a) \\text{ mod } N = \n",
    "\\begin{cases}\n",
    "y + a - N \\text{ , if } y + a \\geq N \\\\\n",
    "y + a \\text{ , if } y + a < N \n",
    "\\end{cases}\n",
    "$$\n",
    "\n",
    "3. Controlled on the significant-digit qubit (i.e. last qubit in the input register), we apply a CX gate to the qubit in the ancilla register. Therefore, at this stage, the ancilla qubit will flip from $| 0 \\rangle$ to $| 1 \\rangle$ iff $y + a < N$ \n",
    "4. Controlled on the ancilla qubit, we apply a controlled adder gate, which adds $N$ back to $y + a - N$, if $y + a - N < 0$.\n",
    "\n",
    "\n",
    "At this stage, our qubit registers will be in state\n",
    "\n",
    "$$\n",
    "| (y + a) \\text{ mod N } \\rangle_{n} \\otimes | \\text{ dirty ancilla} = 0 \\text{ or } 1 \\rangle  \\otimes | \\text{ control qubits }   \\rangle_{2}\n",
    "$$\n",
    "\n",
    "5. The last stage of the circuit is set up to clean up the dirty ancilla qubit and restore its state back to $| 0 \\rangle$. \n",
    "\n",
    "The important observation here is that the ancilla will be in the state $| 1 \\rangle$ iff $y + a < N$ iff $(y + a) \\text{ mod } N  - a < y$. Therefore, by applying a subtractor circuit with the integer $a$, we can again check the significant digit qubit to see if this condition holds or not. That is,\n",
    "\n",
    "6. We apply the inverse adder circuit mapping $| x  \\rangle_{n} \\mapsto | x - a \\rangle_{n}$. \n",
    "7. After applying an X gate to the significant digit qubit of the input register, apply a CX gate controlled on this significant digit qubit targetting the ancilla qubit. The X gate flips the necessary condition from $y + a - N < 0$ to $y + a - N \\geq  0$ (i.e. $y + a \\geq N$).\n",
    "\n",
    "At the end of the day, the circuit acts as:\n",
    "\n",
    "$$\n",
    "| y \\rangle _{n} \\mapsto | (y + a) \\text{ mod } N \\rangle_{n}\n",
    "$$\n",
    "\n",
    "with only clean ancilla qubits in the final output state.\n",
    "\n",
    "\n",
    "\n"
   ]
  },
  {
   "cell_type": "code",
   "execution_count": 114,
   "id": "58fd5d60",
   "metadata": {},
   "outputs": [],
   "source": [
    "\n",
    "def ControlledModAdderCons(a,N):\n",
    "    n = N.bit_length() + 1\n",
    "    input_register = QuantumRegister(n)\n",
    "    anc_register = QuantumRegister(1)     \n",
    "    control_register = QuantumRegister(2)\n",
    "    \n",
    "    \n",
    "    \n",
    "    ControlledModAdder = QuantumCircuit(input_register,control_register, anc_register)\n",
    "    ControlledModAdder.compose(ControlledAdderCons(a,2,n), qubits= input_register[:] + control_register[:] , inplace=True)\n",
    "    ControlledModAdder.compose(ControlledAdderCons(N,0,n).inverse(), qubits = input_register[:] , inplace=True)\n",
    "\n",
    "    ControlledModAdder.cx(input_register[-1], anc_register[0])\n",
    "    ControlledModAdder.compose(ControlledAdderCons(N,1,n), qubits= input_register[:] +  anc_register[:], inplace=True) \n",
    "    ControlledModAdder.compose(ControlledAdderCons(a,2,n).inverse(), qubits= input_register[:] + control_register[:], inplace=True)\n",
    "    ControlledModAdder.x(input_register[-1])\n",
    "    ControlledModAdder.cx(input_register[-1], anc_register[0])\n",
    "    ControlledModAdder.x(input_register[-1])\n",
    "    ControlledModAdder.compose(ControlledAdderCons(a,2,n ), qubits= input_register[:] + control_register[:], inplace=True)\n",
    "    \n",
    "    return ControlledModAdder\n",
    "\n",
    "\n",
    "\n"
   ]
  },
  {
   "cell_type": "markdown",
   "id": "809890f4",
   "metadata": {},
   "source": [
    "We will also need a function that outputs a controlled circuit implementing <em> modular multiplication </em>. The parameters here are again $a, N \\in \\mathbb{Z}_{+}$, with $a < N$. \n",
    "That is, we would like a circuit that acts as:\n",
    "\n",
    "$$\n",
    "| y \\rangle_{n} \\mapsto | (ay) \\text{ mod } N \\rangle_{n}\n",
    "$$"
   ]
  },
  {
   "cell_type": "markdown",
   "id": "98c37b97",
   "metadata": {},
   "source": [
    "The main observation here is that this circuit may be implemented by iterating a number of controlled modular adder gates. Consider the binary representation of $y = 2^{n-1} y_{n-1} + \\cdots 2^{i} y_{i} + y_{0}$ where $y_{i} \\in \\{ 0, 1 \\}$. Then, one has that \n",
    "$$(ay) \\text{ mod } N =  $$\n",
    "$$\n",
    "(2^{n-1} a y_{n-1} + \\cdots 2^{1} a y_{1} + 2^{0} a y_{0}) \\text{ mod } N = \n",
    "$$\n",
    "$$\n",
    "(  \\cdots (  ( ( ( a \\cdot y_{0} ) \\text{ mod } N ) + 2 \\cdot  a \\cdot y_{1} ) \\text{ mod } N   + 2^{2} \\cdot a \\cdot y_{2} ) \\text{ mod } N +  \\cdots 2^{n-1 } \\cdot a \\cdot y_{n-1}  ) \\text{ mod } N \n",
    "$$\n",
    "\n"
   ]
  },
  {
   "cell_type": "markdown",
   "id": "7ade4262",
   "metadata": {},
   "source": [
    "The tricky part to this is that the modular adder gate specifically requires that we are adding an integer $a < N$ to the input register. However, there is no guarantee that $2^{k} \\cdot a \\cdot y_{k} < N$ just because $a < N$ and $y < N$. "
   ]
  },
  {
   "cell_type": "markdown",
   "id": "1053f2f7",
   "metadata": {},
   "source": [
    "On the other hand, with the expression above, we only need to deal with modular addition with terms of the form $2^{k} \\cdot a \\cdot y_{k}$. To do this, we note that $a > N$ and $y_{k} > N$, and we can write:\n",
    "\n",
    "$$(y + 2^{k} \\cdot a \\cdot y_{k} ) \\text{ mod } N = $$\n",
    "$$\n",
    " ( ( \\cdots   ( ( ( y + a \\cdot y_{k} ) \\text{ mod } N ) + a \\cdot y_{k} ) + a \\cdot y_{k} ) \\text{ mod } N  + \\cdots ) \n",
    "$$\n",
    "\n",
    "That is, we take the register $y$, and we iterate modular addition $2^{k}$ many times, where on each iteration we add $a \\cdot y_{k} < N$. Now, as $a < N$, this can be implemented with the circuit we have constructed for modular addition."
   ]
  },
  {
   "cell_type": "code",
   "execution_count": 115,
   "id": "7a155608",
   "metadata": {},
   "outputs": [],
   "source": [
    "\n",
    "\n",
    "def ControlledMultModCircuitCons(a,N):\n",
    "    n = N.bit_length() + 1\n",
    "    output_register = QuantumRegister(n)\n",
    "    input_register = QuantumRegister(n)\n",
    "    control_register = QuantumRegister(1)\n",
    "    anc_register = QuantumRegister(1) \n",
    "            \n",
    "    ControlledMultModCircuit = QuantumCircuit(output_register,input_register,control_register,anc_register)\n",
    "    for q in enumerate(input_register):\n",
    "        for i in range(2**q[0]):\n",
    "            ControlledMultModCircuit.compose(ControlledModAdderCons(a , N ),  qubits=output_register[:]  + [q[1]]  + [control_register[0]] +  anc_register[:], inplace=True)\n",
    "    return ControlledMultModCircuit\n",
    "         "
   ]
  },
  {
   "cell_type": "markdown",
   "id": "dd57ab1e",
   "metadata": {},
   "source": [
    "Note that in the above code, we need to initialize $2$ qubit registers of size $n$: one register will be named the \"output register\" and the other will be named the \"input register\". \n",
    "\n",
    "The initial state $| y \\rangle_{n} = | y_{n-1} \\cdots y_{0} \\rangle_{n}$ will be encoded in the \"input regster\", and used for control qubits for modular addition by terms of the form \n",
    "$$\n",
    "2^{k} \\cdot a \\cdot y_{k} = \\begin{cases} 2^{k} \\cdot a \\text{, if } y_{k} = 1 \\\\ 0 \\text{, otherwise } \\end{cases}\n",
    "$$\n",
    "\n",
    "\n",
    "The output register is then used to encode the resulting states of the modular additions by each of the terms above. In the end, the state of the output register encodes the result of $(ay) \\text{ mod } N$. Note that this means that the modular multiplication circuit constructed here is \"out of place\", in that the result of $(ay) \\text{ mod } N$ is encoded in a different register than the register encoding the initial state $| y \\rangle_{n}$. \n",
    "\n",
    "\n",
    "Explicitly, the circuit acts as follows (including ancilla and qubits): \n",
    "\n",
    "$$\n",
    "| x \\rangle_{1}  \\otimes | 0 \\rangle_{1} \\otimes | y \\rangle_{n} \\otimes  | 0 \\rangle_{n} \n",
    "\\mapsto\n",
    "| x \\rangle_{1}  \\otimes | 0 \\rangle_{1} \\otimes | y \\rangle_{n} \\otimes  | (a y) \\text{ mod } N \\rangle_{n} \n",
    "$$\n",
    "\n",
    "as opposed to \n",
    "\n",
    "$$\n",
    "| x \\rangle_{1}  \\otimes | 0 \\rangle_{1} \\otimes | y \\rangle_{n} \\otimes  | 0 \\rangle_{n} \n",
    "\\mapsto\n",
    "| x \\rangle_{1}  \\otimes | 0 \\rangle_{1} \\otimes | (a y) \\text{ mod } N \\rangle_{n} \\otimes  | 0 \\rangle_{n} \n",
    "$$"
   ]
  },
  {
   "cell_type": "markdown",
   "id": "5deaf4a1",
   "metadata": {},
   "source": [
    "----------------------------------------------------------------------------------\n",
    "\n",
    "\n",
    "Finally, we come to the construction of the Shor oracle circuit. We write a function that takes in parameters $a , N \\in \\mathbb{Z}_{+}$ and outputs the desired Shor oracle circuit as described in the beginning of this notebook. That is, along with some clean ancillas, the circuit acts as:\n",
    "\n",
    "$$ |x \\rangle_{1} | y \\rangle_{n} \\mapsto \n",
    " \\begin{cases}  | x \\rangle_{1}  \\otimes | 0 \\rangle_{1} \\otimes | 0 \\rangle_{1} \\otimes  | (a y) \\text{ mod } N \\rangle_{n} \\otimes | 0 \\rangle_{n} \\text{, if } x = 1 \\text{ and } y < N \\\\ \n",
    "\n",
    "| x \\rangle_{1}  \\otimes | 0 \\rangle_{1} \\otimes | 0 \\rangle_{1} \\otimes  | y \\rangle_{n} \\otimes | 0 \\rangle_{n} \\text{, otherwise }\n",
    "\\end{cases}\n",
    "$$\n",
    "\n",
    "Note that this oracle circuit will perform a conditional modular multiplication operation \"in place\", in contrast to the \"out of place\" modular multiplication circuit we defined before."
   ]
  },
  {
   "cell_type": "markdown",
   "id": "d247c596",
   "metadata": {},
   "source": [
    "We describe the construction of the circuit:\n",
    "\n",
    "1. We initialize a register of size $2$, let us call this the ``oracle register\". It will consist of $2$ qubits: one qubit is given by $| x \\rangle$ (i.e. coming from the expected initial state of the oracle, which determines whether or not the circuit will act non-trivially). The other qubit is used as an ancilla qubit, whose state will be determined by the state of $| x \\rangle$ and whether or not $y < N$. \n",
    "2. We also initialize a control register, consisting of a single qubit, which will be passed in as a control qubit for the modular multiplication circuits that we will use throughout this construction. These modular multiplication circuits will only operate if this control qubit is in state $|1 \\rangle$.\n",
    "\n",
    "3. The first block of code simply checks if $y < N$ and sets the state of ancilla qubit accordingly, controlled on the qubit $| x \\rangle$. That is: we compose to the circuit, acting on the input register, the inverse of the controlled adder which represents subtraction by $N$. At this stage, the input register will be of the form $| y - N \\rangle_{n}$. \n",
    "\n",
    "4. We apply a CX gate targetting the ancilla qubit, controlled on the qubit $| x \\rangle$. Therefore, the ancilla qubit will flip from $| 0 \\rangle$ to $| 1 \\rangle $ iff $ | x \\rangle  = | 1 \\rangle$. \n",
    "\n",
    "5. We apply a CCX/Toffoli gate targetting the \"control qubit\" in the control register, controlled on the siginificant digit qubit of the input register and the ancilla qubit in the \"oracle register\". Then, the control qubit will flip from $| 0 \\rangle$ to $| 1 \\rangle$ iff $ x \\rangle = | 1 \\rangle$ and $y - N < 0$.\n",
    "\n",
    "6. Then, we need to uncompute/clean the ancilla qubit in the oracle register, in order to have a \"fresh ancilla\" in the zero state for work in the rest of the circuit. This easy: as step $5$ doesn't affect the qubit $| x \\rangle$ in the oracle register at all, we can uncompute the ancilla qubit by just reversing step $4$ (i.e. reapply it, as the gate in step $4$ is an involution)\n",
    "\n",
    "\n",
    "7. Finally, we can compose to the circuit, our controlled modular multiplication circuit, controlled on the \"control qubit\" in the control register whose state was determined by steps $1$ to $6$. The modular multiplication (sub)-circuit will only operate if by the end of step $6$, the control qubit is in state $| 1 \\rangle$.\n",
    "\n",
    "8. The last stage of this circuit resolves the \"out of place\" issue present in the modular multiplication circuit. This \"trick\" is outlined in the Beauregard paper: given the state $| x \\rangle_{n}  | 0 \\rangle | 1 \\rangle | y \\rangle _{n} | (ay) \\text{ mod } N \\rangle_{n}$, we apply some swaps in order to switch around the output and input registers to achieve the state $| x \\rangle_{n}  | 0 \\rangle | 1 \\rangle | (ay) \\text{ mod } N \\rangle_{n} | y \\rangle _{n}$. Now, the qubits $| (ay) \\text{ mod } N \\rangle_{n}$ are in the input register and $| y \\rangle_{n}$ is in the output register. \n",
    "\n",
    "We may pass this through the inverse of the modular multiplication circuit (controlled on the control qubit $| 1 \\rangle$ in the oracle circuit). Since the input register now contains qubits $| (ay) \\text{ mod } N \\rangle_{n}$ and the output register contains $| y \\rangle_{n}$, the effect of this inverse circuit will be:\n",
    "\n",
    "$$\n",
    "| x \\rangle_{n}  | 0 \\rangle | 1 \\rangle | (ay) \\text{ mod } N \\rangle_{n} | y \\rangle _{n} \\mapsto | x \\rangle_{n}  | 0 \\rangle | 1 \\rangle | (ay) \\text{ mod } N \\rangle_{n} | y - a^{-1} (ay)  \\text{ mod } N \\rangle _{n} = | x \\rangle_{n}  | 0 \\rangle | 1 \\rangle | (ay) \\text{ mod } N \\rangle_{n} | 0 \\rangle _{n}  \n",
    "$$\n",
    "\n",
    "Note that we will need the multiplicative inverse of $(a) \\text{ mod } N$, to apply the inverse modular multiplication circuit as described above. This can be efficiently computed <em>classically </em> with the Euclidean algorithm, but we will just use a built-in python function to do this.\n",
    "\n",
    "\n",
    "9. The final stage of this circuit is defined in order to uncompute the control qubit in the control register. The observation here is the following: \n",
    "- The control qubit is in state $|1 \\rangle$ iff we had that $y < N$ and $x = 1$\n",
    "- If $x = 1$, then input register will either be in the state $| (ay) \\text{ mod } N \\rangle_{n}$ or in the state $| y \\rangle_{n}$. If it is in the state $| y \\rangle_{n}$, then passing this through the subtractor circuit (subtract by $N$) will result in a $| 0 \\rangle$ in the significant digit qubit. If it is in the state $| (ay) \\text{ mod } N \\rangle_{n}$, then the resulting state after subtraction will be in the state $| 1 \\rangle$, as $(ay) \\text{ mod } N < N$. \n",
    "- If $x = 0$, then there is no uncomputing to be done because if $x = 0$, then the control qubit will remain in the initial state of $ | 0 \\rangle$.\n",
    "Thus, to uncompute the control qubit, we apply compose with a controlled subtractor circuit (subtract by $N$), controlled on the qubit $|x \\rangle$ in the oracle register, and as usual use a CCX-gate targetting the control qubit, controlled by the significant digit qubit in the input register, and the qubit $|x\\rangle$ in the oracle register.\n",
    "\n",
    "\n"
   ]
  },
  {
   "cell_type": "code",
   "execution_count": null,
   "id": "d598dc95",
   "metadata": {},
   "outputs": [],
   "source": [
    "def OracleCircuitCons(N, a):\n",
    "   n = N.bit_length() + 1\n",
    "   output_register = QuantumRegister(n)\n",
    "   input_register = QuantumRegister(n)\n",
    "   control_register = QuantumRegister(1)\n",
    "   oracle_register = QuantumRegister(2) \n",
    "   \n",
    "   # classical computation of a^{-1} modulo N.. i.e., the multiplicative inverse of (a) mod N this will be an integer less than N\n",
    "   a_inv = pow(a, -1, N)\n",
    "   \n",
    "   OracleCircuit = QuantumCircuit(output_register, input_register, control_register, oracle_register)\n",
    "\n",
    "   OracleCircuit.compose( ControlledAdderCons(N,0,n).inverse(), qubits= input_register[:], inplace=True )\n",
    "\n",
    "   OracleCircuit.cx(oracle_register[1], oracle_register[0])\n",
    "   OracleCircuit.ccx( input_register[-1], oracle_register[0], control_register[0])\n",
    "   OracleCircuit.cx(oracle_register[1], oracle_register[0])\n",
    "\n",
    "   OracleCircuit.compose( ControlledAdderCons(N,0,n), qubits= input_register[:], inplace=True )\n",
    "   OracleCircuit.compose(ControlledMultModCircuitCons(a,N), qubits= output_register[:] + input_register[:] + control_register[:] + [oracle_register[0]], inplace=True)\n",
    "\n",
    "   for i in range(n):\n",
    "      OracleCircuit.cx(input_register[i],output_register[i])\n",
    "      OracleCircuit.ccx(control_register[0], output_register[i], input_register[i])\n",
    "      OracleCircuit.cx(input_register[i],output_register[i])\n",
    "\n",
    "   OracleCircuit.compose(ControlledMultModCircuitCons(a_inv,N).inverse(), qubits = output_register[:]  + input_register[:]  + control_register[:] + [oracle_register[0]], inplace=True)\n",
    "\n",
    "   OracleCircuit.compose( ControlledAdderCons(N,0,n).inverse(), qubits=input_register[:], inplace=True )\n",
    "   OracleCircuit.ccx(oracle_register[1], input_register[-1], control_register[0])\n",
    "   OracleCircuit.compose( ControlledAdderCons(N,0,n), qubits= input_register[:], inplace=True )\n",
    "\n",
    "\n",
    "   return OracleCircuit"
   ]
  },
  {
   "cell_type": "markdown",
   "id": "7a298a10",
   "metadata": {},
   "source": [
    "<u> <b> Testing </b> </u>"
   ]
  },
  {
   "cell_type": "markdown",
   "id": "6250145a",
   "metadata": {},
   "source": [
    "First, we test our code with $N = 15$"
   ]
  },
  {
   "cell_type": "code",
   "execution_count": 117,
   "id": "ad932c6a",
   "metadata": {},
   "outputs": [],
   "source": [
    "N = 15\n",
    "n = N.bit_length() + 1\n",
    "\n",
    "\n",
    "output_register = QuantumRegister(n)\n",
    "oracle_register = QuantumRegister(2)\n",
    "\n",
    "input_register = QuantumRegister(n, name='input')\n",
    "control_register = QuantumRegister(1, name='ctrl')"
   ]
  },
  {
   "cell_type": "markdown",
   "id": "b028f11e",
   "metadata": {},
   "source": [
    "We set $a = 7$, and initialize the input register to the state $| 7 \\rangle_{n} = |  00 111 \\rangle$ , and initialize the qubit $|x  \\rangle$ to $| 1 \\rangle$. Then, as $x = 1$ and $7 < 15$, the expected output should be\n",
    "\n",
    "$$\n",
    "| 1 \\rangle \\otimes | 0 0  \\rangle \\otimes  | 49 \\text{ mod } N \\rangle | 0 \\rangle_{n} = | 1 \\rangle \\otimes | 0 0  \\rangle \\otimes  | 4  \\rangle | 0 \\rangle_{n} = | 1 \\rangle \\otimes | 0 0  \\rangle \\otimes  | 0 0 1 0 0 \\rangle  \\otimes | 0 \\rangle_{n}  = | 1 0 0  0 0  1 0 0  0 0 0 0 0 \\rangle\n",
    "$$"
   ]
  },
  {
   "cell_type": "code",
   "execution_count": 118,
   "id": "fb35470f",
   "metadata": {},
   "outputs": [],
   "source": [
    "\n",
    "a = 7\n",
    "\n",
    "qc= QuantumCircuit(output_register,input_register, control_register, oracle_register)\n",
    "qc.x( oracle_register[1])\n",
    "\n",
    "qc.x(input_register[2])\n",
    "qc.x(input_register[1])\n",
    "qc.x(input_register[0])\n",
    "\n",
    "qc.compose(OracleCircuitCons(N,a), inplace=True)\n",
    "\n"
   ]
  },
  {
   "cell_type": "code",
   "execution_count": 119,
   "id": "b5e53dd4",
   "metadata": {},
   "outputs": [
    {
     "data": {
      "text/latex": [
       "$$ |1000010000000\\rangle$$"
      ],
      "text/plain": [
       "<IPython.core.display.Latex object>"
      ]
     },
     "execution_count": 119,
     "metadata": {},
     "output_type": "execute_result"
    }
   ],
   "source": [
    "psi = Statevector(qc)\n",
    "\n",
    "psi.draw('Latex')"
   ]
  },
  {
   "cell_type": "markdown",
   "id": "ea62d206",
   "metadata": {},
   "source": [
    "With the same example, we run this with the qubit $|x\\rangle$ in the oracle register initialized to $| 0 \\rangle$ instead of $| 1 \\rangle$. As $| x \\rangle = | 0 \\rangle$, the expected output should be \n",
    "\n",
    "$$\n",
    "| 0 \\rangle \\otimes | 0 0  \\rangle \\otimes  | 7 \\text{ mod } N \\rangle | 0 \\rangle_{n} = | 0 \\rangle \\otimes | 0 0  \\rangle \\otimes  | 0 0 1 1 1  \\rangle | 0 \\rangle_{n} = | 0 0 0  0 0  1 1 1  0 0 0 0 0 \\rangle\n",
    "$$"
   ]
  },
  {
   "cell_type": "code",
   "execution_count": 120,
   "id": "9324129b",
   "metadata": {},
   "outputs": [
    {
     "data": {
      "text/latex": [
       "$$ |0000011100000\\rangle$$"
      ],
      "text/plain": [
       "<IPython.core.display.Latex object>"
      ]
     },
     "execution_count": 120,
     "metadata": {},
     "output_type": "execute_result"
    }
   ],
   "source": [
    "\n",
    "qc= QuantumCircuit(output_register,input_register, control_register, oracle_register)\n",
    "\n",
    "qc.x(input_register[2])\n",
    "qc.x(input_register[1])\n",
    "qc.x(input_register[0])\n",
    "\n",
    "qc.compose(OracleCircuitCons(N,a), inplace=True)\n",
    "\n",
    "psi = Statevector(qc)\n",
    "\n",
    "psi.draw('Latex')"
   ]
  },
  {
   "cell_type": "markdown",
   "id": "9b2e69cf",
   "metadata": {},
   "source": [
    "Let us try initializing the input register to a state which encodes an integer larger than $N = 15$.  We set $| y \\rangle_{n} = | 1 0 0 0 0 \\rangle_{n} = | 16 \\rangle$ and $| x \\rangle = | 1 \\rangle$. Then, the expected output is\n",
    "\n",
    "\n",
    "$$\n",
    "| 1 \\rangle \\otimes |0 \\rangle |0 \\rangle  \\otimes  | 16 \\rangle \\otimes | 0 \\rangle_{n}\n",
    "= | 1 \\rangle \\otimes |0 \\rangle |0 \\rangle  \\otimes  | 1 0 0 0 0 \\rangle \\otimes | 0 \\rangle_{n} \n",
    "$$\n",
    "\n"
   ]
  },
  {
   "cell_type": "code",
   "execution_count": 121,
   "id": "d993eef1",
   "metadata": {},
   "outputs": [],
   "source": [
    "qc= QuantumCircuit(output_register,input_register, control_register, oracle_register)\n",
    "qc.x( oracle_register[1])\n",
    "\n",
    "qc.x( input_register[4])\n",
    "\n",
    "qc.compose(OracleCircuitCons(N,a), inplace=True)\n"
   ]
  },
  {
   "cell_type": "code",
   "execution_count": 122,
   "id": "9d7bd604",
   "metadata": {},
   "outputs": [
    {
     "data": {
      "text/latex": [
       "$$ |1001000000000\\rangle$$"
      ],
      "text/plain": [
       "<IPython.core.display.Latex object>"
      ]
     },
     "execution_count": 122,
     "metadata": {},
     "output_type": "execute_result"
    }
   ],
   "source": [
    "psi = Statevector(qc)\n",
    "\n",
    "psi.draw('Latex')"
   ]
  },
  {
   "cell_type": "markdown",
   "id": "a02f63e9",
   "metadata": {},
   "source": [
    "The code runs as expected for any $N$, let us try $N = 21$.\n"
   ]
  },
  {
   "cell_type": "code",
   "execution_count": 123,
   "id": "207a6f00",
   "metadata": {},
   "outputs": [],
   "source": [
    "a = 17 \n",
    "N = 21\n",
    "n = N.bit_length() + 1\n",
    "\n",
    "\n",
    "output_register = QuantumRegister(n)\n",
    "oracle_register = QuantumRegister(2)\n",
    "\n",
    "input_register = QuantumRegister(n, name='input')\n",
    "control_register = QuantumRegister(1, name='ctrl')"
   ]
  },
  {
   "cell_type": "code",
   "execution_count": 124,
   "id": "68333e74",
   "metadata": {},
   "outputs": [],
   "source": [
    "qc= QuantumCircuit(output_register,input_register, control_register, oracle_register)\n",
    "qc.x( oracle_register[1])\n",
    "\n",
    "qc.x(input_register[3])\n",
    "qc.x(input_register[2])\n",
    "qc.x(input_register[0])\n",
    "\n",
    "qc.compose(OracleCircuitCons(N,a), inplace=True)\n"
   ]
  },
  {
   "cell_type": "code",
   "execution_count": 125,
   "id": "78535540",
   "metadata": {},
   "outputs": [
    {
     "data": {
      "text/latex": [
       "$$ |100001011000000\\rangle$$"
      ],
      "text/plain": [
       "<IPython.core.display.Latex object>"
      ]
     },
     "execution_count": 125,
     "metadata": {},
     "output_type": "execute_result"
    }
   ],
   "source": [
    "psi = Statevector(qc)\n",
    "\n",
    "psi.draw('Latex')"
   ]
  },
  {
   "cell_type": "markdown",
   "id": "51d82d52",
   "metadata": {},
   "source": [
    "Here is an example with $N = 29$. We set $a = 21$ and initialize $| x \\rangle = | 1 \\rangle$ and $| y \\rangle = | 7 \\rangle =  | 0 0 0 1 1 1 \\rangle$. Thus, the expected output should be\n",
    "\n",
    "$$\n",
    "| 1 \\rangle \\otimes | 0 0 \\rangle  \\otimes | 7 \\cdot 21 \\text{ mod } 29 \\rangle_{n} \\otimes | 0 \\rangle_{n} = | 1 \\rangle \\otimes | 0 0 \\rangle  \\otimes | 2 \\rangle_{n} \\otimes | 0 \\rangle_{n} = | 1 \\rangle \\otimes | 0 0 \\rangle  \\otimes | 0 0 0 0 1 0  \\rangle_{n} \\otimes | 0 \\rangle_{n} = | 1  0 0  0 0  0  0  1 0 0 0 0 0 0 0 \\rangle\n",
    "$$"
   ]
  },
  {
   "cell_type": "code",
   "execution_count": 127,
   "id": "aff0d516",
   "metadata": {},
   "outputs": [
    {
     "data": {
      "text/latex": [
       "$$ |100000010000000\\rangle$$"
      ],
      "text/plain": [
       "<IPython.core.display.Latex object>"
      ]
     },
     "execution_count": 127,
     "metadata": {},
     "output_type": "execute_result"
    }
   ],
   "source": [
    "\n",
    "a = 21 \n",
    "N = 29\n",
    "n = N.bit_length() + 1\n",
    "\n",
    "\n",
    "output_register = QuantumRegister(n)\n",
    "oracle_register = QuantumRegister(2)\n",
    "\n",
    "input_register = QuantumRegister(n, name='input')\n",
    "control_register = QuantumRegister(1, name='ctrl')\n",
    "qc= QuantumCircuit(output_register,input_register, control_register, oracle_register)\n",
    "qc.x( oracle_register[1])\n",
    "\n",
    "qc.x(input_register[2])\n",
    "qc.x(input_register[1])\n",
    "qc.x(input_register[0])\n",
    "\n",
    "qc.compose(OracleCircuitCons(N,a), inplace=True)\n",
    "\n",
    "psi = Statevector(qc)\n",
    "\n",
    "psi.draw('Latex')"
   ]
  }
 ],
 "metadata": {
  "kernelspec": {
   "display_name": "base",
   "language": "python",
   "name": "python3"
  },
  "language_info": {
   "codemirror_mode": {
    "name": "ipython",
    "version": 3
   },
   "file_extension": ".py",
   "mimetype": "text/x-python",
   "name": "python",
   "nbconvert_exporter": "python",
   "pygments_lexer": "ipython3",
   "version": "3.11.5"
  }
 },
 "nbformat": 4,
 "nbformat_minor": 5
}
