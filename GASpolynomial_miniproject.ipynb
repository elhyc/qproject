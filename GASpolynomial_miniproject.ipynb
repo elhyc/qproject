{
 "cells": [
  {
   "cell_type": "code",
   "execution_count": 214,
   "id": "b6e0c9fd",
   "metadata": {},
   "outputs": [],
   "source": [
    "from qiskit.circuit import QuantumCircuit, QuantumRegister, AncillaRegister\n",
    "from qiskit.quantum_info import Statevector, Operator\n",
    "from qiskit.circuit.library import MCPhaseGate, MCXGate, HGate\n",
    "from IPython.display import display, Markdown, Latex\n",
    "import matplotlib.pyplot as plt\n",
    "import random \n",
    "import numpy as np"
   ]
  },
  {
   "cell_type": "code",
   "execution_count": 215,
   "id": "21215879",
   "metadata": {},
   "outputs": [],
   "source": [
    "# We will need these throughout the notebook \n",
    "def quantum_fourier_transform(n):\n",
    "    quantum_register = QuantumRegister(size=n, name=\"x\")\n",
    "    QFT_circuit = QuantumCircuit(quantum_register, name=f\"QFT\")\n",
    "\n",
    "    for q, p in zip(quantum_register[:n >> 1], reversed(quantum_register[n >> 1:])):\n",
    "        QFT_circuit.swap(q, p)\n",
    "\n",
    "    for i, q in enumerate(quantum_register, start=1):\n",
    "        QFT_circuit.h(q)\n",
    "        for j, p in enumerate(quantum_register[i:], start=1):\n",
    "            QFT_circuit.cp(np.pi / (1 << j), q, p)\n",
    "\n",
    "    return QFT_circuit\n",
    "\n",
    "def inverse_quantum_fourier_transform(n):\n",
    "    quantum_register = QuantumRegister(size=n, name=\"x\")\n",
    "    inverse_QFT_circuit = QuantumCircuit(quantum_register, name=f\"IQFT\")\n",
    "\n",
    "    for i, q in enumerate(reversed(quantum_register), start=1):\n",
    "        for j, p in enumerate(reversed(quantum_register[n + 1 - i:]), start=1):\n",
    "            inverse_QFT_circuit.cp(- np.pi / (1 << (i - j)), q, p)\n",
    "        inverse_QFT_circuit.h(q)\n",
    "\n",
    "    for q, p in zip(quantum_register[:n >> 1], reversed(quantum_register[n >> 1:])):\n",
    "        inverse_QFT_circuit.swap(q, p)\n",
    "\n",
    "    return inverse_QFT_circuit\n",
    "\n",
    "\n",
    "def evaln(f,n,args):\n",
    "    output = 0\n",
    "    for key in f:\n",
    "        monoargs = []\n",
    "        for i in range(len(key)):\n",
    "            if key[i] == '1':\n",
    "                monoargs.append(args[i])\n",
    "        output += f[key] * np.prod(monoargs)\n",
    "    return output\n"
   ]
  },
  {
   "cell_type": "markdown",
   "id": "45e51c2a",
   "metadata": {},
   "source": [
    "\n",
    "\"Grover Adaptive Search for Constrained Polynomial Binary Optimization” (Following Gilliam-Woerner-Gonciulea)\n",
    "\n",
    "Task: given a function $f: \\mathbb{F}^{n}_{2} \\rightarrow \\mathbb{Z}$, a threshold $t \\in \\mathbb{Z}$ and a  constraint function $ C: \\mathbb{F}^{n}_{2} \\rightarrow \\mathbb{Z}$ construct an oracle/marker circuit $U_{f,t,C}$ such that \n",
    "\n",
    "$$\n",
    "U_{f,t,C} | x \\rangle_{n} | y \\rangle_{1} =\n",
    "\\begin{cases}\n",
    "| x \\rangle_{n} | y \\oplus 1 \\rangle_{1},  \\text{ if } f(x) \\geq t \\text{ and } C(x) \\geq 0 \\\\\n",
    "| x \\rangle_{n} | y \\rangle_{1} , \\text{ otherwise}\\\\\n",
    "\\end{cases}\n",
    "$$"
   ]
  },
  {
   "cell_type": "markdown",
   "id": "cb0321b4",
   "metadata": {},
   "source": [
    "We assume that we are given polynomial functions $f: \\mathbb{F}_{2}^{n} \\rightarrow \\mathbb{Z}$ and $C: \\mathbb{F}_{2}^{n} \\rightarrow \\mathbb{Z}$ encoded as dictionaries (of coefficients) $f$ and $C$, with keys given by bitstrings $b_{0} b_{1} \\cdots b_{n-1}$ representing monomials $x_{0}^{b_{0}} x_{1}^{b_{1}} \\cdots x_{n-1}^{b_{n-1}}$, and corresponding values $f[key] \\in \\mathbb{Z}$ representing the coefficient of a respective monomial $x_{0}^{b_{0}} x_{1}^{b_{1}} \\cdots x_{n-1}^{b_{n-1}}$. \n",
    "\n",
    "Furthermore, we suppose that we are also provided with a fixed integer $t \\in \\mathbb{Z}$. Note that the condition that $f(x) \\geq t$ is the same as $f(x) - t \\geq 0$. We will use the notation $f_{t} := f - t$. \n"
   ]
  },
  {
   "cell_type": "markdown",
   "id": "5dfebcfb",
   "metadata": {},
   "source": [
    "Once $f$, $C$ and $t$ are given, we (roughly) calculate an upper bound on the number of (qu)bits required to encode the possible outputs $f(x_{0}, x_{1}, \\cdots, x_{n-1}) - t$ and $C(x_{0}, x_{1}, \\cdots, x_{n-1})$. Throughout this notebook, this value will be referred to as $m$.  \n",
    "\n",
    "We may use the random module to generate an example for $f_{t}$, $C$ and $t$:"
   ]
  },
  {
   "cell_type": "code",
   "execution_count": null,
   "id": "51379c91",
   "metadata": {},
   "outputs": [],
   "source": [
    "\n",
    "def input_generator(n, seed, t):\n",
    "    f = dict.fromkeys( [ bin(x)[2:].zfill(n)  for x in range(0, 2**(n)  ) ], 0)\n",
    "    ft_bound = 0\n",
    "\n",
    "    for key in f:\n",
    "        value = random.randint(-seed,seed)\n",
    "        f_bound += abs(value)\n",
    "        f[key] = value\n",
    "    f_t = f     \n",
    "    f_t['0'*n] = -t\n",
    "    ft_bound += f_t['0'*n]\n",
    "    \n",
    "    \n",
    "    C_bound = 0 \n",
    "    C = dict.fromkeys( [ bin(x)[2:].zfill(n)  for x in range(0, 2**(n)  ) ], 0)\n",
    "    for key in C:\n",
    "        valueC = random.randint(-seed,seed)\n",
    "        C_bound += abs(value)\n",
    "        C[key] = valueC\n",
    "        \n",
    "    m = max(ft_bound.bit_length(), C_bound.bit_length()) + 1 # Number of output bits needed to represent the function values\n",
    "    return f_t, C, m"
   ]
  },
  {
   "cell_type": "code",
   "execution_count": 288,
   "id": "dec2e401",
   "metadata": {},
   "outputs": [
    {
     "data": {
      "text/markdown": [
       "Then, for example, the dictionary $f$ encodes the monomials"
      ],
      "text/plain": [
       "<IPython.core.display.Markdown object>"
      ]
     },
     "metadata": {},
     "output_type": "display_data"
    },
    {
     "data": {
      "text/markdown": [
       "0 $x_1^0 x_0^0$"
      ],
      "text/plain": [
       "<IPython.core.display.Markdown object>"
      ]
     },
     "metadata": {},
     "output_type": "display_data"
    },
    {
     "data": {
      "text/markdown": [
       "-2 $x_1^0 x_0^0$"
      ],
      "text/plain": [
       "<IPython.core.display.Markdown object>"
      ]
     },
     "metadata": {},
     "output_type": "display_data"
    },
    {
     "data": {
      "text/markdown": [
       "1 $x_1^0 x_0^1$"
      ],
      "text/plain": [
       "<IPython.core.display.Markdown object>"
      ]
     },
     "metadata": {},
     "output_type": "display_data"
    },
    {
     "data": {
      "text/markdown": [
       "4 $x_1^0 x_0^1$"
      ],
      "text/plain": [
       "<IPython.core.display.Markdown object>"
      ]
     },
     "metadata": {},
     "output_type": "display_data"
    },
    {
     "data": {
      "text/markdown": [
       "2 $x_1^1 x_0^0$"
      ],
      "text/plain": [
       "<IPython.core.display.Markdown object>"
      ]
     },
     "metadata": {},
     "output_type": "display_data"
    },
    {
     "data": {
      "text/markdown": [
       "1 $x_1^1 x_0^0$"
      ],
      "text/plain": [
       "<IPython.core.display.Markdown object>"
      ]
     },
     "metadata": {},
     "output_type": "display_data"
    },
    {
     "data": {
      "text/markdown": [
       "2 $x_1^1 x_0^1$"
      ],
      "text/plain": [
       "<IPython.core.display.Markdown object>"
      ]
     },
     "metadata": {},
     "output_type": "display_data"
    },
    {
     "data": {
      "text/markdown": [
       "-3 $x_1^1 x_0^1$"
      ],
      "text/plain": [
       "<IPython.core.display.Markdown object>"
      ]
     },
     "metadata": {},
     "output_type": "display_data"
    },
    {
     "data": {
      "text/markdown": [
       "Note that the exponents are assigned to the monomials in reverse order"
      ],
      "text/plain": [
       "<IPython.core.display.Markdown object>"
      ]
     },
     "metadata": {},
     "output_type": "display_data"
    }
   ],
   "source": [
    "t = random.randint(-7,7)\n",
    "f_t, C, m = input_generator(3,7, t)\n",
    "\n",
    "f = f_t.copy()\n",
    "f['000'] = f_t['000'] + t\n",
    "\n",
    "display(Markdown(f'Then, for example, the dictionary $f$ encodes the monomials'))\n",
    "\n",
    "for key in f:\n",
    "    display(Markdown(f'{f[key]} $x_{1}^{key[0]} x_{0}^{key[1]}$'))\n",
    "\n",
    "display(Markdown(\"Note that the exponents are assigned to the monomials in reverse order\"))"
   ]
  },
  {
   "cell_type": "markdown",
   "id": "ca27793a",
   "metadata": {},
   "source": [
    "\n",
    "Following the G-W-G paper, we construct an operator $A$ such that, given a polynomial $P$ we get:\n",
    "\n",
    "$$\n",
    "A | x \\rangle_{n} | 0 \\rangle_{m} = | x \\rangle_{n} | P(x) \\rangle_{m}\n",
    "$$\n",
    "\n",
    "so that for  $s = \\frac{1}{\\sqrt{n}} \\sum\\limits_{x \\in \\mathbb{F}^{n}_{2} } | x \\rangle_{n}$, we get $\n",
    "A | s \\rangle _{n} | 0 \\rangle_{m} =  \\frac{1}{\\sqrt{n}} \\sum\\limits_{x \\in \\mathbb{F}_{2}^{n}} | x \\rangle_{n} | P(x) \\rangle_{m}$\n",
    "\n",
    "\n",
    "\n",
    "\n",
    "The right-hand sum is an equal superposition of all inputs $x \\in \\mathbb{F}^{n}_{2}$ in the first $n$-bits (the input register) and their corresponding outputs $P(x)$ encoded in the last $m$-bits (the output register). Here, we assume that the outputs $P(x)$ can be encoded with $m$ bits."
   ]
  },
  {
   "cell_type": "markdown",
   "id": "05d1baee",
   "metadata": {},
   "source": [
    "The below code is essentially a multi-controlled \"Draper adder\" circuit. Given an input $x \\in \\mathbb{F}^{n}_{2}$, the output $P(x) \\in \\mathbb{Z}$ can be encoded as a binary sequence given by the $m$-bit binary expansion of the integer $P(x)$. \n",
    "\n",
    "Furthermore, the binary sequence $b_{1} b_{2} \\cdots b_{m}$ represents $P(x)$ modulo $2^{m}$ -- which means if $P(x)$ is negative, then $2^{m} + P(x) \\equiv_{2^{m}} P(x)$ has $1$ as the most significant digit. It is easy to see that $b_{1} b_{2} \\cdots b_{m}$ will have $1$ as the most significant digit iff $P(x) < 0$. \n",
    "\n",
    "Each bitstring $a = a_{0} \\cdots a_{n-1}$ represents a valid input for the polynomial $P$. The output $P(a_{0}, \\cdots, a_{n-1})$ is an integer which may be encoded in $m$ bits. It is computed by considering each monomial $P[``k_{0} \\cdots k_{n-1} \"] x_{0}^{k_{0}} x_{1}^{k_{1}} \\cdots x_{n-1}^{k_{n-1}}$, for each key bitstring $``k_{0} \\cdots k_{n-1}\"$ in the dictionary $P$ encoding the coefficients of $P$, and evaluating $P[``k_{0} \\cdots k_{n-1}\"] a_{0} \\cdots a_{n-1}$.\n",
    "\n",
    " Recall that Draper's circuit uses a combination of phaser gates corresponding to an integer $k$, so that $| 0 \\rangle_{m} \\mapsto | k \\textnormal{ mod } 2^{m} \\rangle_{m}$. The code below operates in the same way, but now with the input register as part of the system, we can perform controlled adder gates acting so that $ | x \\rangle_{n} | 0 \\rangle_{m} \\mapsto | a_{0} \\cdots a_{n-1} \\rangle_{n} | P(a_{0}, \\cdots, P_{n-1})  \\rangle_{m}$ if $ | x \\rangle_{n} =  | a_{0} \\cdots a_{n-1} \\rangle_{m}$ and  $| x \\rangle_{n} | 0 \\rangle_{m}$ otherwise. \n",
    "\n",
    "\n",
    "These \"multi-controlled adder gates\" are implemented by combining (arbitrary) multi-controlled gates which target some ancilla qubits, and single controlled phase gates which target a corresponding bit in the output register. \n"
   ]
  },
  {
   "cell_type": "code",
   "execution_count": null,
   "id": "c571740f",
   "metadata": {},
   "outputs": [],
   "source": [
    "def circuitA_constructor(P,n,m):\n",
    "    input_register = QuantumRegister(size=n, name=\"input\")\n",
    "    output_register = QuantumRegister(size=m, name=\"output\")\n",
    "    anc_register = AncillaRegister(size=m, name=\"ancilla\")\n",
    "    \n",
    "    circuitA = QuantumCircuit(input_register, output_register, anc_register, name=\"A\")\n",
    "    invQFT = inverse_quantum_fourier_transform(m).to_gate(label=\"invQFT\")\n",
    "    circuitA.h(output_register)  # Initialize output register in superposition\n",
    "    \n",
    "    #encoding the constant term onto the output register, essentially every output gets adjusted by this constant term\n",
    "    for i in range(0,m):\n",
    "        theta = (  2*np.pi / 2**(m) )*(P['0'*n]) \n",
    "        circuitA.p((2**(m-i-1))*theta, output_register[m-1-i])\n",
    "    \n",
    "    for key in P.keys():\n",
    "        controls = [input_register[i] for i in range(n) if str(key)[i] == '1']\n",
    "        theta = (  2*np.pi / 2**(m) )*(P[key]) \n",
    "        \n",
    "                \n",
    "        for i in range(0,m):\n",
    "            if len(controls) != 0:\n",
    "                circuitA.mcx(control_qubits=controls, target_qubit=anc_register[m-1-i])\n",
    "                circuitA.cp((2**(m-1-i))*theta, anc_register[m-i-1], output_register[m-1-i])\n",
    "                circuitA.mcx(control_qubits=controls, target_qubit=anc_register[m-1-i])\n",
    " \n",
    "    circuitA.append(invQFT, output_register)\n",
    "    return circuitA \n",
    "\n"
   ]
  },
  {
   "cell_type": "markdown",
   "id": "755382e4",
   "metadata": {},
   "source": [
    "Using the corresponding operator $A$ constructed above for a polynomial $P$, we see that the state $| x \\rangle_{n} | P(x)\\rangle_{m}$ is so that the most significant bit of $P(x)$ is a $0$ if $P(x) \\geq 0$, and a $1$ if $P(x)$ is negative. \n",
    "\n",
    "Therefore, implementing a bit flip marker is simple: check the most significant digit and flip the \"oracle bit\" $y$ according to if the siginificant digit is a $0$ or a $1$"
   ]
  },
  {
   "cell_type": "code",
   "execution_count": null,
   "id": "6b4b2390",
   "metadata": {},
   "outputs": [],
   "source": [
    "def oracleCircuit_constructor(m):\n",
    "\n",
    "    \n",
    "\n",
    "    oracle_bit = QuantumRegister(size=1, name=\"oracle_bit\")\n",
    "    output_register = QuantumRegister(size=m, name=\"ouput\")\n",
    "\n",
    "    oracleCircuit = QuantumCircuit(output_register, oracle_bit, name=\"Oracle\")\n",
    "\n",
    "    oracleCircuit.x(output_register[m-1])\n",
    "    oracleCircuit.cx(output_register[m-1], oracle_bit[0])\n",
    "    oracleCircuit.x(output_register[m-1])\n",
    "    return oracleCircuit\n"
   ]
  },
  {
   "cell_type": "markdown",
   "id": "301a5198",
   "metadata": {},
   "source": [
    "Combining the $A_{f_{t}}$ and $A_{C}$ operators, and the corresponding marking oracles, we can build the following circuit:\n",
    "\n",
    "1. First, we apply the operator $A_{f_{t}}$ to the input, output and ancilla register \"anc_register\" (the sole purpose of the ancilla register here is to implement multi-controlled rotation gates only using multi-controlled $X$ gates and singly controlled phase gates)\n",
    "2.  We compose the circuit with the marking oracle defined above, using the qubits given by the output register and an oracle qubit $y_{1}$ whose state will flip iff the most significant digit in the output register is a $0$.\n",
    "\n",
    "3. Then, we apply the inverse gate to $A_{f_{t}}$, in order to uncompute the output and ancilla registers back to their respective initial state $ | 0 \\rangle_{m}$.  Note that this does not affect the oracle qubit in register \"y1_register\". It is necessary the uncompute the output and ancilla registers back to their original state, as we will re-use the same registers next for the operator $A_{C}$, which essentially repeats the first two steps for $C$ instead of $f_{t}$.\n",
    "\n",
    "4. We apply the operator $A_{C}$ to the input,output and ancilla register \"anc_register\". Followed by another instance of the marking oracle as above, but now we use the qubits given by the output register and a separate oracle qubit $y_{2}$\n",
    "\n",
    "5. We use the qubit $y$ from \"y_register\" as a marker oracle qubit for the logical AND of the two conditions $f_{t}(x) \\geq 0$ and $C(x) \\geq 0$. That is, we apply a Toffoli/CCX gate with the control qubits set to be $y_{1}$ and $y_{2}$, and the target qubit set to be $y$. Recall that $f_{t}(x) \\geq 0$ is equivalent to $f(x) \\geq t$."
   ]
  },
  {
   "cell_type": "code",
   "execution_count": null,
   "id": "810f9151",
   "metadata": {},
   "outputs": [],
   "source": [
    "\n",
    "\n",
    "def CombinedMarkerCircuit_constructor(f_t, C, n, m):\n",
    "\n",
    "    input_register = QuantumRegister(size=n, name=\"input\")\n",
    "    output_register = QuantumRegister(size=m, name=\"ouput\")\n",
    "    anc_register = AncillaRegister(size=m, name='anc')\n",
    "    y1_register = AncillaRegister(size=1, name='Oracle bit = y1')\n",
    "    y2_register = AncillaRegister(size=1, name='Oracle bit = y2')\n",
    "\n",
    "    y_register =  QuantumRegister(size=1, name='Input Oracle bit = y')\n",
    "    \n",
    "    circuitA_ft = circuitA_constructor(f_t,n,m)\n",
    "    circuitA_ft_dg = circuitA_ft.inverse()\n",
    "    opA_ft = circuitA_ft.to_gate()\n",
    "    opA_ft_dg = circuitA_ft_dg.to_gate()\n",
    "\n",
    "    circuitA_C = circuitA_constructor(C,n,m)\n",
    "    circuitA_C_dg = circuitA_C.inverse()\n",
    "    opA_C = circuitA_C.to_gate()\n",
    "    opA_C_dg = circuitA_C_dg.to_gate()\n",
    "\n",
    "    oracleCircuit_y1 = oracleCircuit_constructor(m)\n",
    "    oracleCircuit_y2 = oracleCircuit_constructor(m) \n",
    "    \n",
    "    # Create the combined marker circuit    \n",
    "    CombinedMarkerCircuit = QuantumCircuit(input_register, output_register, anc_register, y1_register, y2_register,y_register, name=\"CombinedMarkerCircuit\")\n",
    "\n",
    "    #Marking the condition f(x) > t, using y1 as a marker oracle qubit \n",
    "    CombinedMarkerCircuit.compose(opA_ft, qubits=input_register[:] + output_register[:] + anc_register[:], inplace=True)\n",
    "    CombinedMarkerCircuit.compose(oracleCircuit_y1, qubits=output_register[:] + y1_register[:], inplace=True) \n",
    "    CombinedMarkerCircuit.compose(opA_ft_dg , qubits=input_register[:] + output_register[:] + anc_register[:], inplace=True) \n",
    "    # we uncompute the output and anc registers to repeat the same process for C\n",
    "\n",
    "\n",
    "\n",
    "    #Marking the condition C(x) > 0, using y2 as a marker oracle qubit \n",
    "    CombinedMarkerCircuit.compose(opA_C, qubits=input_register[:] + output_register[:] + anc_register[:], inplace=True)\n",
    "    CombinedMarkerCircuit.compose(oracleCircuit_y2, qubits=output_register[:] + y2_register[:], inplace=True) \n",
    "    CombinedMarkerCircuit.compose(opA_C_dg, qubits=input_register[:] + output_register[:] + anc_register[:], inplace=True)\n",
    "\n",
    "\n",
    "    # We can now consider y as a marker oracle qubit by applying a Toffoli/CCX gate which will flip the state of y if both y1 and y2 are in the |1> state.\n",
    "    CombinedMarkerCircuit.barrier()\n",
    "    CombinedMarkerCircuit.ccx(y1_register[0], y2_register[0], y_register[0])\n",
    "    CombinedMarkerCircuit.barrier()\n",
    "\n",
    "    # We uncompute all registers apart from the input register and the register containing the oracle bit y \n",
    "    # This is done to clean up the output state of the circuit. \n",
    "    CombinedMarkerCircuit.compose(opA_C, qubits=input_register[:] + output_register[:] + anc_register[:], inplace=True)\n",
    "    CombinedMarkerCircuit.compose(oracleCircuit_y2, qubits=output_register[:] + y2_register[:], inplace=True) \n",
    "    CombinedMarkerCircuit.compose(opA_C_dg, qubits=input_register[:] + output_register[:] + anc_register[:], inplace=True)\n",
    "    \n",
    "\n",
    "    CombinedMarkerCircuit.compose(opA_ft, qubits=input_register[:] + output_register[:] + anc_register[:], inplace=True)\n",
    "    CombinedMarkerCircuit.compose(oracleCircuit_y1, qubits=output_register[:] + y1_register[:], inplace=True) \n",
    "    CombinedMarkerCircuit.compose(opA_ft_dg , qubits=input_register[:] + output_register[:] + anc_register[:], inplace=True) \n",
    "\n",
    "    return CombinedMarkerCircuit"
   ]
  },
  {
   "cell_type": "code",
   "execution_count": 221,
   "id": "87a2a2a4",
   "metadata": {},
   "outputs": [],
   "source": [
    "\n",
    "def Stateprep_constructor(n, m):\n",
    "\n",
    "    input_register = QuantumRegister(size=n, name=\"input\")\n",
    "    output_register = QuantumRegister(size=m, name=\"ouput\")\n",
    "    anc_register = AncillaRegister(size=m, name='anc')\n",
    "    y1_register = AncillaRegister(size=1, name='Oracle bit = y1')\n",
    "    y2_register = AncillaRegister(size=1, name='Oracle bit = y2')\n",
    "\n",
    "    y_register =  QuantumRegister(size=1, name='Input Oracle bit = y')\n",
    "    \n",
    "    stateprepCircuit = QuantumCircuit(input_register, output_register, anc_register, y1_register, y2_register,y_register, name=\"StateprepCircuit\")\n",
    "    stateprepCircuit.h(input_register)\n",
    "    return stateprepCircuit\n",
    "    "
   ]
  },
  {
   "cell_type": "markdown",
   "id": "1ddb141f",
   "metadata": {},
   "source": [
    "<b><ins> Preliminary complexity analysis </ins></b>\n",
    "\n",
    "Let us give a brief description of some of the complexities involved with the above constructions. We will fix the size of the output register to be $m$, and consider the resource and space requirements as a function of the size of the input register, $n$.\n",
    "\n",
    "For the circuit $A_{P}$, given a polynomial $P: \\mathbb{F}^{n}_{2} \\rightarrow \\mathbb{Z}$, we use the gates:\n",
    "\n",
    "| Gate  |  | Count, upper bound |\n",
    "| --- | --- | --- |\n",
    "| H |       | $m$ |\n",
    "| MCX |     | $n + \\binom{n}{2} + \\cdots + \\binom{n}{n-1} + \\binom{n}{n} = 2^{n} - 1$ |\n",
    "|  Controlled phase, cp |     |  $m \\cdot (2^{n} - 1 )$  |\n",
    "| Inverse QFT |    | 1 |\n",
    "\n",
    "\n",
    "Therefore, the gate count is in $\\mathcal{O}( 2^{n} )$. As for circuit depth, we note that the depth of the circuit as a function of $n$, is also in $\\mathcal{O}( 2^{n} )$. At worst, we may have a polynomial such that a certain variable $x_{i}$ appears in every (non-zero) monomial appearing in the decomposition of $P$ into homogeneous terms. Then, we see that the depth of the circuit is bounded above by $3 \\times m \\times (2^{n} - 1) + k$ where $(2^{n} - 1)$ is the number of monomials of non-zero degree in $n$ variables over $\\mathbb{F}_{2}$, and there is some overall constant $k$ number of gates that may be applied that is independent of the number of input qubits.\n",
    "\n",
    "Ancilla qubits required are $1$ for each qubit required for the output register. That is, if outputs for $P$ can be encoded with $m$ bits, then we will need $m$ ancilla qubits. This is independent of $n$.\n",
    "\n",
    "\n",
    "The marking oracle circuit which checks the significant digit in the output register uses $2$ X-gates (to flip the condition from negative to positive, recall that negative outputs have a $1$ as the sigificant digit), and it also uses a single CX gate. Both of these gate counts are independent of $n$, and so does not contribute to the dominanting complexity as $n \\to \\infty$. The same holds for the depth of these circuit -- it is independent of $n$. \n",
    "\n",
    "\n",
    "\n",
    "Therefore, the overall gate count and circuit depth for the complete \"combined marking circuit\" implementing $U_{f,t,C}$, as a function of $n$, is in $\\mathcal{O}(2^{n})$\n",
    "\n",
    "\n",
    "\n",
    "However, note that if there is an upper bound $D < n$ on the degrees of the polynomials given by $f$ and $C$, then the overall gate and depth counts, as functions of $n$, are in $\\mathcal{O} \\big( n + \\binom{n}{2} + \\cdots + \\binom{n}{D} \\big)$.\n",
    "\n",
    "\n",
    "\n",
    "\n",
    "\n",
    "\n"
   ]
  },
  {
   "cell_type": "markdown",
   "id": "995436a6",
   "metadata": {},
   "source": [
    "<b> <ins> Testing </ins> </b>"
   ]
  },
  {
   "cell_type": "markdown",
   "id": "ff0fd7d1",
   "metadata": {},
   "source": [
    "We test the above circuits for $n = 2$ and $t = -6$. We fix an example $f$ and $C$ as inputs and calculate the required $m$ below:"
   ]
  },
  {
   "cell_type": "code",
   "execution_count": null,
   "id": "3d731593",
   "metadata": {},
   "outputs": [],
   "source": [
    "\n",
    "n  = 2\n",
    "t = -6\n",
    "\n",
    "f_t = {'00': 6, '01': -2, '10': -7, '11': 4}\n",
    "\n",
    "f = f_t.copy()\n",
    "f['00']  = f_t['00'] + t \n",
    "\n",
    "C = {'00': 5, '01': 5, '10': 0, '11': -2}\n",
    "m = 6\n"
   ]
  },
  {
   "cell_type": "markdown",
   "id": "ec45abed",
   "metadata": {},
   "source": [
    "We prepare the Hadamard-superposition state $ | s \\rangle_{n} =  \\frac{1}{\\sqrt{n}} \\sum_{x \\in \\mathbb{F}_{2}^{n}} | x \\rangle_{n}$ to be passed through the combined marker circuit as the input register. The expected result should be of the form \n",
    "\n",
    "$$\n",
    "\\frac{1}{\\sqrt{n}} \\sum\\limits_{x \\in \\mathbb{F}_{2}^{n}}  | y 0 0 0 \\cdots 0 x \\rangle_{ n + 2m + 2 + 1} \n",
    "$$ \n",
    "where:\n",
    "$$\n",
    "y =  \n",
    "\\begin{cases}\n",
    "1, \\textnormal{ if $f(x) > t$ and $C(x) > 0$ } \\\\\n",
    "0, \\textnormal{else} \n",
    "\\end{cases}\n",
    "$$\n"
   ]
  },
  {
   "cell_type": "code",
   "execution_count": null,
   "id": "35ce77bb",
   "metadata": {},
   "outputs": [
    {
     "data": {
      "text/latex": [
       "$$\\frac{1}{2} |00000000000000001\\rangle+\\frac{1}{2} |10000000000000000\\rangle+\\frac{1}{2} |10000000000000010\\rangle+\\frac{1}{2} |10000000000000011\\rangle$$"
      ],
      "text/plain": [
       "<IPython.core.display.Latex object>"
      ]
     },
     "execution_count": 223,
     "metadata": {},
     "output_type": "execute_result"
    }
   ],
   "source": [
    "qc = Stateprep_constructor(n, m)\n",
    "CombinedMarkerCircuit = CombinedMarkerCircuit_constructor(f_t, C, n, m)\n",
    "\n",
    "#CombinedMarkerCircuit.draw(\"mpl\", style ='iqx')  # Display the circuit using the IQX style\n",
    "\n",
    "\n",
    "testqc = qc.compose(CombinedMarkerCircuit)\n",
    "psi = Statevector(testqc)\n",
    "psi.draw(\"Latex\")  # Display the circuit using the IQX style\n",
    "\n",
    "\n"
   ]
  },
  {
   "cell_type": "markdown",
   "id": "0f1d853c",
   "metadata": {},
   "source": [
    "In the above example, we see that the combined condition holds for all inputs except $(1,0)$. Indeed, we look at all the outputs $f(x_{0},x_{1})$ and $C(x_{0}, x_{1})$ for all possible inputs $(x_{0}, x_{1})$"
   ]
  },
  {
   "cell_type": "code",
   "execution_count": 224,
   "id": "2a37f696",
   "metadata": {},
   "outputs": [
    {
     "name": "stdout",
     "output_type": "stream",
     "text": [
      "f(0,0) = 6.0 and C(0,0) = 5.0\n",
      "f(0,1) = 4.0 and C(0,1) = 10.0\n",
      "f(1,0) = -1.0 and C(1,0) = 5.0\n",
      "f(1,1) = 1.0 and C(1,1) = 8.0\n"
     ]
    }
   ],
   "source": [
    "for x in range(0,2):\n",
    "    for y in range(0,2):\n",
    "        print(f\"f({x},{y}) = {evaln(f,n,[x,y])}\" + \" and \" + f\"C({x},{y}) = {evaln(C,n,[x,y])}\")\n"
   ]
  },
  {
   "cell_type": "markdown",
   "id": "bb95e628",
   "metadata": {},
   "source": [
    "From the above output, we see that only $(1,0) \\in \\mathbb{F}_{2}^{n}$ does not satisfy the condition. This is why $| 0 0 0 \\cdots 0 1 \\rangle$ is the only state in the above superposition without a $|1>$ as the left most qubit state (i.e. the oracle bit state). In fact, let us prepare the initial state $| 0 0 0 \\cdots 0 1 \\rangle$ and show that the circuit does not flip the oracle bit."
   ]
  },
  {
   "cell_type": "code",
   "execution_count": 225,
   "id": "9769ac50",
   "metadata": {},
   "outputs": [
    {
     "data": {
      "text/latex": [
       "$$ |00000000000000001\\rangle$$"
      ],
      "text/plain": [
       "<IPython.core.display.Latex object>"
      ]
     },
     "execution_count": 225,
     "metadata": {},
     "output_type": "execute_result"
    }
   ],
   "source": [
    "\n",
    "qctest = QuantumCircuit(CombinedMarkerCircuit.num_qubits)\n",
    "qctest.x(0) \n",
    "\n",
    "psi = Statevector(qctest.compose(CombinedMarkerCircuit))\n",
    "\n",
    "psi.draw(\"Latex\")  "
   ]
  },
  {
   "cell_type": "markdown",
   "id": "d3cfd94b",
   "metadata": {},
   "source": [
    "On the other hand, starting from the $0$ state, we should get $ |1 0 0 0 \\cdots 0 \\rangle$. "
   ]
  },
  {
   "cell_type": "code",
   "execution_count": 226,
   "id": "56bb0359",
   "metadata": {},
   "outputs": [
    {
     "data": {
      "text/latex": [
       "$$ |10000000000000000\\rangle$$"
      ],
      "text/plain": [
       "<IPython.core.display.Latex object>"
      ]
     },
     "execution_count": 226,
     "metadata": {},
     "output_type": "execute_result"
    }
   ],
   "source": [
    "\n",
    "qctest = QuantumCircuit(CombinedMarkerCircuit.num_qubits)\n",
    "\n",
    "psi = Statevector(qctest.compose(CombinedMarkerCircuit))\n",
    "\n",
    "psi.draw(\"Latex\")  "
   ]
  },
  {
   "cell_type": "markdown",
   "id": "24b116b1",
   "metadata": {},
   "source": [
    "As expected.."
   ]
  },
  {
   "cell_type": "markdown",
   "id": "6defb539",
   "metadata": {},
   "source": [
    "Let's try another example, with $t = 3$ and $n = 2$.\n",
    "\n"
   ]
  },
  {
   "cell_type": "code",
   "execution_count": 282,
   "id": "305c555e",
   "metadata": {},
   "outputs": [
    {
     "name": "stdout",
     "output_type": "stream",
     "text": [
      "{'00': -3, '01': 4, '10': 7, '11': -3}\n",
      "{'00': 1, '01': -2, '10': 0, '11': 3}\n",
      "5\n",
      "{'00': 0, '01': 4, '10': 7, '11': -3}\n"
     ]
    }
   ],
   "source": [
    "f_t, C, m = input_generator(2,7,3)\n",
    "print(f_t)\n",
    "print(C)\n",
    "print(m)\n",
    "\n",
    "f = f_t.copy()\n",
    "f['00']  = f_t['00'] + 3\n",
    "print(f) \n"
   ]
  },
  {
   "cell_type": "code",
   "execution_count": 304,
   "id": "35caf8f0",
   "metadata": {},
   "outputs": [],
   "source": [
    "qc = Stateprep_constructor(n, m)\n",
    "CombinedMarkerCircuit = CombinedMarkerCircuit_constructor(f_t, C, n, m)"
   ]
  },
  {
   "cell_type": "code",
   "execution_count": null,
   "id": "f13178f0",
   "metadata": {},
   "outputs": [
    {
     "data": {
      "text/latex": [
       "$$\\frac{1}{2} |000000000000000\\rangle+\\frac{1}{2} |000000000000010\\rangle+\\frac{1}{2} |100000000000001\\rangle+\\frac{1}{2} |100000000000011\\rangle$$"
      ],
      "text/plain": [
       "<IPython.core.display.Latex object>"
      ]
     },
     "execution_count": 284,
     "metadata": {},
     "output_type": "execute_result"
    }
   ],
   "source": [
    "testqc = qc.compose(CombinedMarkerCircuit)\n",
    "psi = Statevector(testqc)\n",
    "psi.draw(\"Latex\")  \n"
   ]
  },
  {
   "cell_type": "markdown",
   "id": "9d487218",
   "metadata": {},
   "source": [
    "In this example, input vectors that satisfy both conditions are $(x_{0}, x_{1}) = (1,0)$ and $(x_{0}, x_{1}) = (1,1)$"
   ]
  },
  {
   "cell_type": "code",
   "execution_count": 285,
   "id": "05db3174",
   "metadata": {},
   "outputs": [
    {
     "name": "stdout",
     "output_type": "stream",
     "text": [
      "f(0,0) = 0.0 and C(0,0) = 1.0\n",
      "f(0,1) = 4.0 and C(0,1) = -1.0\n",
      "f(1,0) = 7.0 and C(1,0) = 1.0\n",
      "f(1,1) = 8.0 and C(1,1) = 2.0\n"
     ]
    }
   ],
   "source": [
    "for x in range(0,2):\n",
    "    for y in range(0,2):\n",
    "        print(f\"f({x},{y}) = {evaln(f,n,[x,y])}\" + \" and \" + f\"C({x},{y}) = {evaln(C,n,[x,y])}\")"
   ]
  },
  {
   "cell_type": "code",
   "execution_count": 286,
   "id": "418815fc",
   "metadata": {},
   "outputs": [
    {
     "data": {
      "text/latex": [
       "$$ |100000000000001\\rangle$$"
      ],
      "text/plain": [
       "<IPython.core.display.Latex object>"
      ]
     },
     "execution_count": 286,
     "metadata": {},
     "output_type": "execute_result"
    }
   ],
   "source": [
    "qctest = QuantumCircuit(CombinedMarkerCircuit.num_qubits)\n",
    "qctest.x(0)\n",
    "psi = Statevector(qctest.compose(CombinedMarkerCircuit))\n",
    "\n",
    "psi.draw(\"Latex\")  "
   ]
  },
  {
   "cell_type": "markdown",
   "id": "9df4cf18",
   "metadata": {},
   "source": [
    "Finally, we will run an example with $n = 3$, $t = 2$"
   ]
  },
  {
   "cell_type": "code",
   "execution_count": 300,
   "id": "a8538d8c",
   "metadata": {},
   "outputs": [],
   "source": [
    "n = 3\n",
    "\n",
    "f_t = {'000': -2, '001': -2, '010': 0, '011': 0, '100': -5, '101': 1, '110': 7, '111': 5}\n",
    "C = {'000': 1, '001': 6, '010': 6, '011': -7, '100': -2, '101': -4, '110': -1, '111': 5}\n",
    "m = 7 \n",
    "\n",
    "\n",
    "f = f_t.copy()\n",
    "f['000']  = f_t['000'] + 2\n"
   ]
  },
  {
   "cell_type": "code",
   "execution_count": 301,
   "id": "c9c1c8f2",
   "metadata": {},
   "outputs": [
    {
     "data": {
      "text/latex": [
       "$$\\frac{\\sqrt{2}}{4} |00000000000000000000\\rangle+\\frac{\\sqrt{2}}{4} |00000000000000000001\\rangle+\\frac{\\sqrt{2}}{4} |00000000000000000010\\rangle+\\frac{\\sqrt{2}}{4} |00000000000000000100\\rangle+\\frac{\\sqrt{2}}{4} |00000000000000000101\\rangle+\\frac{\\sqrt{2}}{4} |00000000000000000110\\rangle+\\frac{\\sqrt{2}}{4} |10000000000000000011\\rangle+\\frac{\\sqrt{2}}{4} |10000000000000000111\\rangle$$"
      ],
      "text/plain": [
       "<IPython.core.display.Latex object>"
      ]
     },
     "execution_count": 301,
     "metadata": {},
     "output_type": "execute_result"
    }
   ],
   "source": [
    "qc = Stateprep_constructor(n, m)\n",
    "CombinedMarkerCircuit = CombinedMarkerCircuit_constructor(f_t, C, n, m)\n",
    "\n",
    "psi = Statevector(qc.compose(CombinedMarkerCircuit))\n",
    "psi.draw(\"Latex\") "
   ]
  },
  {
   "cell_type": "markdown",
   "id": "c05b8264",
   "metadata": {},
   "source": [
    "According to the above state, we see that the only inputs that satisfy both $f(x) \\geq 2$ and $C(x) \\geq 0$ should be $x = (1,1,1)$ and $x = (1,1,0)$"
   ]
  },
  {
   "cell_type": "markdown",
   "id": "7740184c",
   "metadata": {},
   "source": [
    "Enumerating through all possible inputs and outs for $f$ and $C$, we get:"
   ]
  },
  {
   "cell_type": "code",
   "execution_count": 303,
   "id": "cedce39e",
   "metadata": {},
   "outputs": [
    {
     "name": "stdout",
     "output_type": "stream",
     "text": [
      "f(0,0,0) = 0.0 and C(0,0,0) = 1.0\n",
      "f(0,0,1) = -2.0 and C(0,0,1) = 7.0\n",
      "f(0,1,0) = 0.0 and C(0,1,0) = 7.0\n",
      "f(0,1,1) = -2.0 and C(0,1,1) = 6.0\n",
      "f(1,0,0) = -5.0 and C(1,0,0) = -1.0\n",
      "f(1,0,1) = -6.0 and C(1,0,1) = 1.0\n",
      "f(1,1,0) = 2.0 and C(1,1,0) = 4.0\n",
      "f(1,1,1) = 6.0 and C(1,1,1) = 4.0\n"
     ]
    }
   ],
   "source": [
    "for x in range(0,2):\n",
    "    for y in range(0,2):\n",
    "        for z in range(0,2):\n",
    "            print(f\"f({x},{y},{z}) = {evaln(f,n,[x,y,z])}\" + \" and \" + f\"C({x},{y},{z}) = {evaln(C,n,[x,y,z])}\")"
   ]
  },
  {
   "cell_type": "markdown",
   "id": "b03d9928",
   "metadata": {},
   "source": [
    "...which confirms the above findings."
   ]
  }
 ],
 "metadata": {
  "kernelspec": {
   "display_name": "base",
   "language": "python",
   "name": "python3"
  },
  "language_info": {
   "codemirror_mode": {
    "name": "ipython",
    "version": 3
   },
   "file_extension": ".py",
   "mimetype": "text/x-python",
   "name": "python",
   "nbconvert_exporter": "python",
   "pygments_lexer": "ipython3",
   "version": "3.11.5"
  }
 },
 "nbformat": 4,
 "nbformat_minor": 5
}
